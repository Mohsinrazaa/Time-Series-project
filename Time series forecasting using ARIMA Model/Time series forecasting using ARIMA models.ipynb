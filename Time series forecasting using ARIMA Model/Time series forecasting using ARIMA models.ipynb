{
 "cells": [
  {
   "cell_type": "markdown",
   "metadata": {},
   "source": [
    "## Saudi Arabia Coronavirus disease (COVID-19) situation — KAPSARC Data Portal"
   ]
  },
  {
   "cell_type": "markdown",
   "metadata": {},
   "source": [
    "# Introduction\n",
    "\n",
    "**What is a time series?**\n",
    "\n",
    "According to the wikipedia, A time series is a series of data points indexed (or listed or graphed) in time order. Most commonly, a time series is a sequence taken at successive equally spaced points in time. Thus it is a sequence of discrete-time data. For example, stock prices over a fixed period of time, hotel bookings, ecommerce sales, waether cycle reports etc.\n",
    "\n",
    "Time series analysis comprises methods for analyzing time series data in order to extract meaningful statistics and other characteristics of the data. Time series forecasting is the use of a model to predict future values based on previously observed values.\n",
    "\n",
    "\n",
    "`ARIMA models` are, in theory, the most general class of models for forecasting a time series, which can be made to be “stationary” by differencing (if necessary), perhaps in conjunction with nonlinear transformations such as logging or deflating (if necessary). A random variable that is a time series is stationary if its statistical properties are all constant over time. A stationary series has no trend, its variations around its mean have a constant amplitude, and it wiggles in a consistent fashion, i.e., its short-term random time patterns always look the same in a statistical sense. The latter condition means that its autocorrelations (correlations with its prior deviations from the mean) remain constant over time, or equivalently, that its power spectrum remains constant over time. A random variable of this form can be viewed (as usual) as a combination of signal and noise, and the signal (if one is apparent) could be a pattern of fast or slow mean reversion, or sinusoidal oscillation, or rapid alternation in sign, and it could also have a seasonal component. An ARIMA model can be viewed as a “filter” that tries to separate the signal from the noise, and the signal is then extrapolated into the future to obtain forecasts.\n",
    "\n",
    "# The Data\n",
    "\n",
    "The data we will use is Saudi Arabia Coronavirus disease (COVID-19) situation data from 0 – 355 recording the number of disease per year."
   ]
  },
  {
   "cell_type": "markdown",
   "metadata": {},
   "source": [
    "# Import Packages\n",
    "\n",
    "In addition to Statsmodels, we will need to import additional packages, including Numpy, Scipy, Pandas, and Matplotlib.\n",
    "\n",
    "Also, from Statsmodels we will need to import qqplot."
   ]
  },
  {
   "cell_type": "code",
   "execution_count": 1,
   "metadata": {},
   "outputs": [],
   "source": [
    "import numpy as np\n",
    "import pandas as pd\n",
    "from scipy import stats\n",
    "import statsmodels.api as sm\n",
    "import matplotlib.pyplot as plt\n",
    "from statsmodels.graphics.api import qqplot"
   ]
  },
  {
   "cell_type": "code",
   "execution_count": 2,
   "metadata": {},
   "outputs": [
    {
     "data": {
      "text/html": [
       "<div>\n",
       "<style scoped>\n",
       "    .dataframe tbody tr th:only-of-type {\n",
       "        vertical-align: middle;\n",
       "    }\n",
       "\n",
       "    .dataframe tbody tr th {\n",
       "        vertical-align: top;\n",
       "    }\n",
       "\n",
       "    .dataframe thead th {\n",
       "        text-align: right;\n",
       "    }\n",
       "</style>\n",
       "<table border=\"1\" class=\"dataframe\">\n",
       "  <thead>\n",
       "    <tr style=\"text-align: right;\">\n",
       "      <th></th>\n",
       "      <th>Daily / Cumulative</th>\n",
       "      <th>Indicator</th>\n",
       "      <th>Date</th>\n",
       "      <th>Event</th>\n",
       "      <th>City</th>\n",
       "      <th>Region</th>\n",
       "      <th>Cases (person)</th>\n",
       "    </tr>\n",
       "  </thead>\n",
       "  <tbody>\n",
       "    <tr>\n",
       "      <th>0</th>\n",
       "      <td>Daily</td>\n",
       "      <td>Cases</td>\n",
       "      <td>2020-03-09</td>\n",
       "      <td>flights suspended to number of countries</td>\n",
       "      <td>Ar Riyad</td>\n",
       "      <td>Ar Riyad</td>\n",
       "      <td>1</td>\n",
       "    </tr>\n",
       "    <tr>\n",
       "      <th>1</th>\n",
       "      <td>Daily</td>\n",
       "      <td>Cases</td>\n",
       "      <td>2020-03-13</td>\n",
       "      <td>NaN</td>\n",
       "      <td>Ar Riyad</td>\n",
       "      <td>Ar Riyad</td>\n",
       "      <td>3</td>\n",
       "    </tr>\n",
       "    <tr>\n",
       "      <th>2</th>\n",
       "      <td>Daily</td>\n",
       "      <td>Cases</td>\n",
       "      <td>2020-03-14</td>\n",
       "      <td>NaN</td>\n",
       "      <td>Ar Riyad</td>\n",
       "      <td>Ar Riyad</td>\n",
       "      <td>12</td>\n",
       "    </tr>\n",
       "    <tr>\n",
       "      <th>3</th>\n",
       "      <td>Daily</td>\n",
       "      <td>Cases</td>\n",
       "      <td>2020-03-15</td>\n",
       "      <td>International flights suspension for 14 days</td>\n",
       "      <td>Ar Riyad</td>\n",
       "      <td>Ar Riyad</td>\n",
       "      <td>2</td>\n",
       "    </tr>\n",
       "    <tr>\n",
       "      <th>4</th>\n",
       "      <td>Daily</td>\n",
       "      <td>Cases</td>\n",
       "      <td>2020-03-16</td>\n",
       "      <td>Gov / private suspension</td>\n",
       "      <td>Ar Riyad</td>\n",
       "      <td>Ar Riyad</td>\n",
       "      <td>4</td>\n",
       "    </tr>\n",
       "    <tr>\n",
       "      <th>5</th>\n",
       "      <td>Daily</td>\n",
       "      <td>Cases</td>\n",
       "      <td>2020-03-17</td>\n",
       "      <td>NaN</td>\n",
       "      <td>Ar Riyad</td>\n",
       "      <td>Ar Riyad</td>\n",
       "      <td>19</td>\n",
       "    </tr>\n",
       "    <tr>\n",
       "      <th>6</th>\n",
       "      <td>Daily</td>\n",
       "      <td>Cases</td>\n",
       "      <td>2020-03-18</td>\n",
       "      <td>NaN</td>\n",
       "      <td>Ar Riyad</td>\n",
       "      <td>Ar Riyad</td>\n",
       "      <td>19</td>\n",
       "    </tr>\n",
       "    <tr>\n",
       "      <th>7</th>\n",
       "      <td>Daily</td>\n",
       "      <td>Cases</td>\n",
       "      <td>2020-03-19</td>\n",
       "      <td>NaN</td>\n",
       "      <td>Ar Riyad</td>\n",
       "      <td>Ar Riyad</td>\n",
       "      <td>21</td>\n",
       "    </tr>\n",
       "    <tr>\n",
       "      <th>8</th>\n",
       "      <td>Daily</td>\n",
       "      <td>Cases</td>\n",
       "      <td>2020-03-20</td>\n",
       "      <td>NaN</td>\n",
       "      <td>Ar Riyad</td>\n",
       "      <td>Ar Riyad</td>\n",
       "      <td>49</td>\n",
       "    </tr>\n",
       "    <tr>\n",
       "      <th>9</th>\n",
       "      <td>Daily</td>\n",
       "      <td>Cases</td>\n",
       "      <td>2020-03-21</td>\n",
       "      <td>Domestic flights suspension</td>\n",
       "      <td>Ar Riyad</td>\n",
       "      <td>Ar Riyad</td>\n",
       "      <td>36</td>\n",
       "    </tr>\n",
       "  </tbody>\n",
       "</table>\n",
       "</div>"
      ],
      "text/plain": [
       "  Daily / Cumulative Indicator       Date  \\\n",
       "0              Daily     Cases 2020-03-09   \n",
       "1              Daily     Cases 2020-03-13   \n",
       "2              Daily     Cases 2020-03-14   \n",
       "3              Daily     Cases 2020-03-15   \n",
       "4              Daily     Cases 2020-03-16   \n",
       "5              Daily     Cases 2020-03-17   \n",
       "6              Daily     Cases 2020-03-18   \n",
       "7              Daily     Cases 2020-03-19   \n",
       "8              Daily     Cases 2020-03-20   \n",
       "9              Daily     Cases 2020-03-21   \n",
       "\n",
       "                                          Event      City    Region  \\\n",
       "0      flights suspended to number of countries  Ar Riyad  Ar Riyad   \n",
       "1                                           NaN  Ar Riyad  Ar Riyad   \n",
       "2                                           NaN  Ar Riyad  Ar Riyad   \n",
       "3  International flights suspension for 14 days  Ar Riyad  Ar Riyad   \n",
       "4                      Gov / private suspension  Ar Riyad  Ar Riyad   \n",
       "5                                           NaN  Ar Riyad  Ar Riyad   \n",
       "6                                           NaN  Ar Riyad  Ar Riyad   \n",
       "7                                           NaN  Ar Riyad  Ar Riyad   \n",
       "8                                           NaN  Ar Riyad  Ar Riyad   \n",
       "9                   Domestic flights suspension  Ar Riyad  Ar Riyad   \n",
       "\n",
       "   Cases (person)  \n",
       "0               1  \n",
       "1               3  \n",
       "2              12  \n",
       "3               2  \n",
       "4               4  \n",
       "5              19  \n",
       "6              19  \n",
       "7              21  \n",
       "8              49  \n",
       "9              36  "
      ]
     },
     "execution_count": 2,
     "metadata": {},
     "output_type": "execute_result"
    }
   ],
   "source": [
    "dta= pd.read_excel(\"DATAset after Filtering.xlsx\")\n",
    "dta.head(10)"
   ]
  },
  {
   "cell_type": "code",
   "execution_count": 3,
   "metadata": {},
   "outputs": [
    {
     "data": {
      "text/plain": [
       "(355, 7)"
      ]
     },
     "execution_count": 3,
     "metadata": {},
     "output_type": "execute_result"
    }
   ],
   "source": [
    "dta.shape"
   ]
  },
  {
   "cell_type": "code",
   "execution_count": 4,
   "metadata": {},
   "outputs": [
    {
     "name": "stdout",
     "output_type": "stream",
     "text": [
      "<class 'pandas.core.frame.DataFrame'>\n",
      "RangeIndex: 355 entries, 0 to 354\n",
      "Data columns (total 7 columns):\n",
      " #   Column              Non-Null Count  Dtype         \n",
      "---  ------              --------------  -----         \n",
      " 0   Daily / Cumulative  355 non-null    object        \n",
      " 1   Indicator           355 non-null    object        \n",
      " 2   Date                355 non-null    datetime64[ns]\n",
      " 3   Event               12 non-null     object        \n",
      " 4   City                355 non-null    object        \n",
      " 5   Region              355 non-null    object        \n",
      " 6   Cases (person)      355 non-null    int64         \n",
      "dtypes: datetime64[ns](1), int64(1), object(5)\n",
      "memory usage: 19.5+ KB\n"
     ]
    }
   ],
   "source": [
    "dta.info()"
   ]
  },
  {
   "cell_type": "markdown",
   "metadata": {},
   "source": [
    "## Data Preprocessing"
   ]
  },
  {
   "cell_type": "code",
   "execution_count": 5,
   "metadata": {},
   "outputs": [
    {
     "data": {
      "text/html": [
       "<div>\n",
       "<style scoped>\n",
       "    .dataframe tbody tr th:only-of-type {\n",
       "        vertical-align: middle;\n",
       "    }\n",
       "\n",
       "    .dataframe tbody tr th {\n",
       "        vertical-align: top;\n",
       "    }\n",
       "\n",
       "    .dataframe thead th {\n",
       "        text-align: right;\n",
       "    }\n",
       "</style>\n",
       "<table border=\"1\" class=\"dataframe\">\n",
       "  <thead>\n",
       "    <tr style=\"text-align: right;\">\n",
       "      <th></th>\n",
       "      <th>Date</th>\n",
       "      <th>Cases (person)</th>\n",
       "    </tr>\n",
       "  </thead>\n",
       "  <tbody>\n",
       "    <tr>\n",
       "      <th>0</th>\n",
       "      <td>2020-03-09</td>\n",
       "      <td>1</td>\n",
       "    </tr>\n",
       "    <tr>\n",
       "      <th>1</th>\n",
       "      <td>2020-03-13</td>\n",
       "      <td>3</td>\n",
       "    </tr>\n",
       "    <tr>\n",
       "      <th>2</th>\n",
       "      <td>2020-03-14</td>\n",
       "      <td>12</td>\n",
       "    </tr>\n",
       "    <tr>\n",
       "      <th>3</th>\n",
       "      <td>2020-03-15</td>\n",
       "      <td>2</td>\n",
       "    </tr>\n",
       "    <tr>\n",
       "      <th>4</th>\n",
       "      <td>2020-03-16</td>\n",
       "      <td>4</td>\n",
       "    </tr>\n",
       "  </tbody>\n",
       "</table>\n",
       "</div>"
      ],
      "text/plain": [
       "        Date  Cases (person)\n",
       "0 2020-03-09               1\n",
       "1 2020-03-13               3\n",
       "2 2020-03-14              12\n",
       "3 2020-03-15               2\n",
       "4 2020-03-16               4"
      ]
     },
     "execution_count": 5,
     "metadata": {},
     "output_type": "execute_result"
    }
   ],
   "source": [
    "# Remove columns which are not required in predictions\n",
    "\n",
    "cols = ['Daily / Cumulative', 'Indicator', 'Event', 'City','Region']\n",
    "dta.drop(cols, axis = 1, inplace = True)\n",
    "dta.head()"
   ]
  },
  {
   "cell_type": "code",
   "execution_count": 6,
   "metadata": {},
   "outputs": [
    {
     "data": {
      "text/plain": [
       "Date              0\n",
       "Cases (person)    0\n",
       "dtype: int64"
      ]
     },
     "execution_count": 6,
     "metadata": {},
     "output_type": "execute_result"
    }
   ],
   "source": [
    "# Sort the Date \n",
    "dta = dta.sort_values('Date')\n",
    "#check any missing values\n",
    "dta.isnull().sum()"
   ]
  },
  {
   "cell_type": "code",
   "execution_count": 7,
   "metadata": {},
   "outputs": [
    {
     "name": "stdout",
     "output_type": "stream",
     "text": [
      "<class 'pandas.core.frame.DataFrame'>\n",
      "Int64Index: 355 entries, 0 to 354\n",
      "Data columns (total 2 columns):\n",
      " #   Column          Non-Null Count  Dtype         \n",
      "---  ------          --------------  -----         \n",
      " 0   Date            355 non-null    datetime64[ns]\n",
      " 1   Cases (person)  355 non-null    int64         \n",
      "dtypes: datetime64[ns](1), int64(1)\n",
      "memory usage: 8.3 KB\n"
     ]
    }
   ],
   "source": [
    "dta.info()"
   ]
  },
  {
   "cell_type": "code",
   "execution_count": 8,
   "metadata": {},
   "outputs": [
    {
     "name": "stdout",
     "output_type": "stream",
     "text": [
      "2020-03-09 00:00:00\n",
      "2021-03-01 00:00:00\n"
     ]
    }
   ],
   "source": [
    "# grouping sales according to Date\n",
    "dta.groupby('Date')['Cases (person)'].sum()\n",
    "\n",
    "# min and max values of  Date\n",
    "print(dta['Date'].min())\n",
    "print(dta['Date'].max())"
   ]
  },
  {
   "cell_type": "code",
   "execution_count": 9,
   "metadata": {},
   "outputs": [
    {
     "data": {
      "text/plain": [
       "DatetimeIndex(['2020-03-09', '2020-03-13', '2020-03-14', '2020-03-15',\n",
       "               '2020-03-16', '2020-03-17', '2020-03-18', '2020-03-19',\n",
       "               '2020-03-20', '2020-03-21',\n",
       "               ...\n",
       "               '2021-02-20', '2021-02-21', '2021-02-22', '2021-02-23',\n",
       "               '2021-02-24', '2021-02-25', '2021-02-26', '2021-02-27',\n",
       "               '2021-02-28', '2021-03-01'],\n",
       "              dtype='datetime64[ns]', name='Date', length=355, freq=None)"
      ]
     },
     "execution_count": 9,
     "metadata": {},
     "output_type": "execute_result"
    }
   ],
   "source": [
    "#set 'Date' as index\n",
    "dta_df = dta.set_index('Date')\n",
    "dta_df.index"
   ]
  },
  {
   "cell_type": "code",
   "execution_count": 10,
   "metadata": {},
   "outputs": [
    {
     "data": {
      "text/html": [
       "<div>\n",
       "<style scoped>\n",
       "    .dataframe tbody tr th:only-of-type {\n",
       "        vertical-align: middle;\n",
       "    }\n",
       "\n",
       "    .dataframe tbody tr th {\n",
       "        vertical-align: top;\n",
       "    }\n",
       "\n",
       "    .dataframe thead th {\n",
       "        text-align: right;\n",
       "    }\n",
       "</style>\n",
       "<table border=\"1\" class=\"dataframe\">\n",
       "  <thead>\n",
       "    <tr style=\"text-align: right;\">\n",
       "      <th></th>\n",
       "      <th>Cases (person)</th>\n",
       "    </tr>\n",
       "    <tr>\n",
       "      <th>Date</th>\n",
       "      <th></th>\n",
       "    </tr>\n",
       "  </thead>\n",
       "  <tbody>\n",
       "    <tr>\n",
       "      <th>2020-03-09</th>\n",
       "      <td>1</td>\n",
       "    </tr>\n",
       "    <tr>\n",
       "      <th>2020-03-13</th>\n",
       "      <td>3</td>\n",
       "    </tr>\n",
       "    <tr>\n",
       "      <th>2020-03-14</th>\n",
       "      <td>12</td>\n",
       "    </tr>\n",
       "    <tr>\n",
       "      <th>2020-03-15</th>\n",
       "      <td>2</td>\n",
       "    </tr>\n",
       "    <tr>\n",
       "      <th>2020-03-16</th>\n",
       "      <td>4</td>\n",
       "    </tr>\n",
       "    <tr>\n",
       "      <th>2020-03-17</th>\n",
       "      <td>19</td>\n",
       "    </tr>\n",
       "    <tr>\n",
       "      <th>2020-03-18</th>\n",
       "      <td>19</td>\n",
       "    </tr>\n",
       "    <tr>\n",
       "      <th>2020-03-19</th>\n",
       "      <td>21</td>\n",
       "    </tr>\n",
       "    <tr>\n",
       "      <th>2020-03-20</th>\n",
       "      <td>49</td>\n",
       "    </tr>\n",
       "    <tr>\n",
       "      <th>2020-03-21</th>\n",
       "      <td>36</td>\n",
       "    </tr>\n",
       "  </tbody>\n",
       "</table>\n",
       "</div>"
      ],
      "text/plain": [
       "            Cases (person)\n",
       "Date                      \n",
       "2020-03-09               1\n",
       "2020-03-13               3\n",
       "2020-03-14              12\n",
       "2020-03-15               2\n",
       "2020-03-16               4\n",
       "2020-03-17              19\n",
       "2020-03-18              19\n",
       "2020-03-19              21\n",
       "2020-03-20              49\n",
       "2020-03-21              36"
      ]
     },
     "execution_count": 10,
     "metadata": {},
     "output_type": "execute_result"
    }
   ],
   "source": [
    "dta_df.head(10)"
   ]
  },
  {
   "cell_type": "code",
   "execution_count": 11,
   "metadata": {},
   "outputs": [
    {
     "data": {
      "text/plain": [
       "Date\n",
       "2020-03-01     28.650000\n",
       "2020-04-01    131.600000\n",
       "2020-05-01    522.129032\n",
       "2020-06-01    864.866667\n",
       "2020-07-01    216.258065\n",
       "2020-08-01     67.903226\n",
       "2020-09-01     36.133333\n",
       "2020-10-01     33.193548\n",
       "2020-11-01     54.666667\n",
       "2020-12-01     34.032258\n",
       "2021-01-01     46.419355\n",
       "2021-02-01    105.214286\n",
       "2021-03-01    119.000000\n",
       "Freq: MS, Name: Cases (person), dtype: float64"
      ]
     },
     "execution_count": 11,
     "metadata": {},
     "output_type": "execute_result"
    }
   ],
   "source": [
    "# average the daily cases value for each month \n",
    "# use start of each month as the timestamp\n",
    "y = dta_df['Cases (person)'].resample('MS').mean()\n",
    "y['2020':]"
   ]
  },
  {
   "cell_type": "markdown",
   "metadata": {},
   "source": [
    "## Data Visualization"
   ]
  },
  {
   "cell_type": "code",
   "execution_count": 12,
   "metadata": {},
   "outputs": [],
   "source": [
    "import matplotlib\n",
    "plt.style.use('fivethirtyeight')\n",
    "matplotlib.rcParams['axes.labelsize'] = 14\n",
    "matplotlib.rcParams['xtick.labelsize'] = 12\n",
    "matplotlib.rcParams['ytick.labelsize'] = 12\n",
    "matplotlib.rcParams['text.color'] = 'k'"
   ]
  },
  {
   "cell_type": "code",
   "execution_count": 13,
   "metadata": {},
   "outputs": [
    {
     "data": {
      "image/png": "[encoded data removed]",
      "text/plain": [
       "<Figure size 1080x432 with 1 Axes>"
      ]
     },
     "metadata": {},
     "output_type": "display_data"
    }
   ],
   "source": [
    "y.plot(figsize = (15, 6))\n",
    "plt.title(\"Number of cases in each month\")\n",
    "plt.show()"
   ]
  },
  {
   "cell_type": "markdown",
   "metadata": {},
   "source": [
    "###### Time-series decompositon \n",
    "* It allows us to decompose our time series into three distinct components\n",
    "<ul>\n",
    "<li>Trend</li>\n",
    "<li>Seasonality</li>\n",
    "<li>Noise</li>\n",
    "</ul>\n"
   ]
  },
  {
   "cell_type": "code",
   "execution_count": 14,
   "metadata": {},
   "outputs": [
    {
     "data": {
      "image/png": "[encoded data removed]",
      "text/plain": [
       "<Figure size 1296x576 with 4 Axes>"
      ]
     },
     "metadata": {},
     "output_type": "display_data"
    }
   ],
   "source": [
    "from pylab import rcParams\n",
    "rcParams['figure.figsize'] = 18, 8\n",
    "\n",
    "decomposition = sm.tsa.seasonal_decompose(y, model = 'additive',period = int(len(y)/2))\n",
    "fig = decomposition.plot()\n",
    "plt.show()"
   ]
  },
  {
   "cell_type": "markdown",
   "metadata": {},
   "source": [
    "<p>\n",
    "    <b><i>About ARIMA model</i></b>\n",
    "<ul>\n",
    "    <li>ARIMA stands for <i>Autoregressive Integreted Moving Average</i></li>\n",
    "    <li>ARIMA models are denoted with the notation <i>ARIMA(p, d, q)</i></li>\n",
    "    <li>These three parameters account for <i>seasonality, trend, and noise</i> in data</li>\n",
    "</ul>\n",
    "</p>"
   ]
  },
  {
   "cell_type": "markdown",
   "metadata": {},
   "source": [
    "# ARIMA Model"
   ]
  },
  {
   "cell_type": "markdown",
   "metadata": {},
   "source": [
    " **ARIMA as a feature:**\n",
    "   \n",
    " Autoregressive Integrated Moving Average (ARIMA) — This was one of the most popular techniques for predicting future values of time series data (in the pre-neural networks ages). Let’s add it and see if it comes off as an important predictive feature.\n",
    "   \n",
    "  ARIMA is a technique for predicting time series data. We will show how to use it, and all though ARIMA will not serve as our final prediction, we will use it as a technique to denoise the stock a little and to (possibly) extract some new patters or features.\n",
    "  \n",
    "  **ARIMA is an acronym. This acronym is descriptive, capturing the key aspects of the model itself. Briefly, they are:**\n",
    "\n",
    "1. `AR: Autoregression`. A model that uses the dependent relationship between an observation and some number of lagged observations.\n",
    "\n",
    "2. `I: Integrated`. The use of differencing of raw observations (e.g. subtracting an observation from an observation at the previous time step) in order to make the time series stationary.\n",
    "\n",
    "3. `MA: Moving Average`. A model that uses the dependency between an observation and a residual error from a moving average model applied to lagged observations.\n",
    "\n",
    "**The parameters of the ARIMA model are defined as follows:**\n",
    "\n",
    ">`p:` The number of lag observations included in the model, also called the lag order.\n",
    "\n",
    ">`d:` The number of times that the raw observations are differenced, also called the degree of differencing.\n",
    "\n",
    ">`q:` The size of the moving average window, also called the order of moving average.\n",
    "\n",
    "**STEPS FOR ARIMA**\n",
    "\n",
    "1. Define the model by calling `ARIMA()` and passing in the p, d, and q parameters.\n",
    "\n",
    "2. The model is prepared on the training data by calling the `fit()` function.\n",
    "\n",
    "3. Predictions can be made by calling the `predict()` function and specifying the index of the time or times to be predicted.\n",
    " \n",
    "First, we fit an ARIMA(5,1,0) model. This sets the lag value to 5 for autoregression, uses a difference order of 1 to make the time series stationary, and uses a moving average model of 0.\n",
    "\n",
    "When fitting the model, a lot of debug information is provided about the fit of the linear regression model. We can turn this off by setting the disp argument to 0.\n",
    "\n",
    "Running the example prints a summary of the fit model. This summarizes the coefficient values used as well as the skill of the fit on the on the in-sample observations.\n",
    "\n",
    "\n",
    "\n"
   ]
  },
  {
   "cell_type": "markdown",
   "metadata": {},
   "source": [
    "# Auto-correlations\n",
    "\n",
    "Before we decide which model to use, we need to look at auto-correlations.\n",
    "\n",
    "#### Autocorrelation correlogram. \n",
    "Seasonal patterns of time series can be examined via correlograms, which display graphically and numerically the autocorrelation function (ACF). Auto-correlation in pandas plotting and statsmodels graphics standardize the data before computing the auto-correlation. These libraries subtract the mean and divide by the standard deviation of the data.\n",
    "\n",
    "#### Partial autocorrelations. \n",
    "Another useful method to examine serial dependencies is to examine the partial autocorrelation function (PACF) – an extension of autocorrelation, where the dependence on the intermediate elements (those within the lag) is removed.\n"
   ]
  },
  {
   "cell_type": "code",
   "execution_count": 15,
   "metadata": {},
   "outputs": [
    {
     "data": {
      "text/plain": [
       "array([0.08305954])"
      ]
     },
     "execution_count": 15,
     "metadata": {},
     "output_type": "execute_result"
    }
   ],
   "source": [
    "sm.stats.durbin_watson(dta_df) # very less correlation"
   ]
  },
  {
   "cell_type": "code",
   "execution_count": 16,
   "metadata": {},
   "outputs": [
    {
     "data": {
      "image/png": "[encoded data removed]",
      "text/plain": [
       "<Figure size 864x576 with 2 Axes>"
      ]
     },
     "metadata": {
      "needs_background": "light"
     },
     "output_type": "display_data"
    }
   ],
   "source": [
    "# show plots in the notebook\n",
    "%matplotlib inline\n",
    "fig = plt.figure(figsize=(12,8))\n",
    "ax1 = fig.add_subplot(211)\n",
    "fig = sm.graphics.tsa.plot_acf(dta_df.values.squeeze(), lags=40, ax=ax1)\n",
    "ax2 = fig.add_subplot(212)\n",
    "fig = sm.graphics.tsa.plot_pacf(dta_df, lags=40, ax=ax2)"
   ]
  },
  {
   "cell_type": "code",
   "execution_count": 17,
   "metadata": {},
   "outputs": [],
   "source": [
    "training_data=dta_df[0:355]\n",
    "test_data=dta_df[355:]"
   ]
  },
  {
   "cell_type": "code",
   "execution_count": 18,
   "metadata": {},
   "outputs": [],
   "source": [
    "from statsmodels.tsa.arima_model import ARIMA\n",
    "import warnings\n",
    "warnings.filterwarnings('ignore')"
   ]
  },
  {
   "cell_type": "code",
   "execution_count": 19,
   "metadata": {},
   "outputs": [],
   "source": [
    "arima= ARIMA(training_data,order=(2,1,3))"
   ]
  },
  {
   "cell_type": "code",
   "execution_count": 20,
   "metadata": {},
   "outputs": [],
   "source": [
    "# model=arima.fit()"
   ]
  },
  {
   "cell_type": "code",
   "execution_count": 21,
   "metadata": {},
   "outputs": [
    {
     "name": "stdout",
     "output_type": "stream",
     "text": [
      "Examples of parameter combinations for Seasonal ARIMA...\n",
      "SARIMAX: (0, 0, 1) x (0, 0, 1, 12)\n",
      "SARIMAX: (0, 0, 1) x (0, 1, 0, 12)\n",
      "SARIMAX: (0, 1, 0) x (0, 1, 1, 12)\n",
      "SARIMAX: (0, 1, 0) x (1, 0, 0, 12)\n"
     ]
    }
   ],
   "source": [
    "import itertools\n",
    "# set the typical ranges for p, d, q\n",
    "p = d = q = range(0, 2)\n",
    "\n",
    "#take all possible combination for p, d and q\n",
    "pdq = list(itertools.product(p, d, q))\n",
    "seasonal_pdq = [(x[0], x[1], x[2], 12) for x in list(itertools.product(p, d, q))]\n",
    "\n",
    "print('Examples of parameter combinations for Seasonal ARIMA...')\n",
    "print('SARIMAX: {} x {}'.format(pdq[1], seasonal_pdq[1]))\n",
    "print('SARIMAX: {} x {}'.format(pdq[1], seasonal_pdq[2]))\n",
    "print('SARIMAX: {} x {}'.format(pdq[2], seasonal_pdq[3]))\n",
    "print('SARIMAX: {} x {}'.format(pdq[2], seasonal_pdq[4]))\n"
   ]
  },
  {
   "cell_type": "code",
   "execution_count": 22,
   "metadata": {},
   "outputs": [
    {
     "name": "stdout",
     "output_type": "stream",
     "text": [
      "ARIMA(0, 0, 0)x(0, 0, 0, 12)12 - AIC:186.67013425755\n",
      "ARIMA(0, 0, 0)x(0, 0, 1, 12)12 - AIC:188.38763407947098\n",
      "ARIMA(0, 0, 0)x(0, 1, 0, 12)12 - AIC:13.84525991072763\n",
      "ARIMA(0, 0, 0)x(1, 0, 0, 12)12 - AIC:187.14717555590872\n",
      "ARIMA(0, 0, 0)x(1, 0, 1, 12)12 - AIC:189.14717555823887\n",
      "ARIMA(0, 0, 1)x(0, 0, 0, 12)12 - AIC:181.44066583306827\n",
      "ARIMA(0, 0, 1)x(0, 0, 1, 12)12 - AIC:183.1902940714873\n",
      "ARIMA(0, 0, 1)x(1, 0, 0, 12)12 - AIC:182.74419321924415\n",
      "ARIMA(0, 0, 1)x(1, 0, 1, 12)12 - AIC:184.7441932303682\n",
      "ARIMA(0, 1, 0)x(0, 0, 0, 12)12 - AIC:168.2286001654984\n",
      "ARIMA(0, 1, 0)x(0, 0, 1, 12)12 - AIC:170.2138484545431\n",
      "ARIMA(0, 1, 0)x(0, 1, 0, 12)12 - AIC:2.0\n",
      "ARIMA(0, 1, 0)x(0, 1, 1, 12)12 - AIC:4.0\n",
      "ARIMA(0, 1, 0)x(1, 0, 0, 12)12 - AIC:170.1714076062512\n",
      "ARIMA(0, 1, 0)x(1, 0, 1, 12)12 - AIC:172.22459026241762\n",
      "ARIMA(0, 1, 0)x(1, 1, 1, 12)12 - AIC:6.0\n",
      "ARIMA(0, 1, 1)x(0, 0, 0, 12)12 - AIC:170.07823017096806\n",
      "ARIMA(0, 1, 1)x(0, 0, 1, 12)12 - AIC:172.05736007429724\n",
      "ARIMA(0, 1, 1)x(0, 1, 0, 12)12 - AIC:4.0\n",
      "ARIMA(0, 1, 1)x(0, 1, 1, 12)12 - AIC:6.0\n",
      "ARIMA(0, 1, 1)x(1, 0, 0, 12)12 - AIC:171.99938751319414\n",
      "ARIMA(0, 1, 1)x(1, 0, 1, 12)12 - AIC:174.0001100313382\n",
      "ARIMA(0, 1, 1)x(1, 1, 0, 12)12 - AIC:6.0\n",
      "ARIMA(0, 1, 1)x(1, 1, 1, 12)12 - AIC:8.0\n",
      "ARIMA(1, 0, 0)x(0, 0, 0, 12)12 - AIC:181.37002451305844\n",
      "ARIMA(1, 0, 0)x(0, 0, 1, 12)12 - AIC:183.09328895321332\n",
      "ARIMA(1, 0, 0)x(1, 0, 0, 12)12 - AIC:181.90749341616188\n",
      "ARIMA(1, 0, 0)x(1, 0, 1, 12)12 - AIC:183.90749362891037\n",
      "ARIMA(1, 0, 1)x(0, 0, 0, 12)12 - AIC:182.1962263412296\n",
      "ARIMA(1, 0, 1)x(0, 0, 1, 12)12 - AIC:183.9926692137648\n",
      "ARIMA(1, 0, 1)x(1, 0, 0, 12)12 - AIC:182.63702882809605\n",
      "ARIMA(1, 0, 1)x(1, 0, 1, 12)12 - AIC:185.51732096591294\n",
      "ARIMA(1, 1, 0)x(0, 0, 0, 12)12 - AIC:170.16720212869203\n",
      "ARIMA(1, 1, 0)x(0, 0, 1, 12)12 - AIC:172.1500699736099\n",
      "ARIMA(1, 1, 0)x(0, 1, 0, 12)12 - AIC:4.0\n",
      "ARIMA(1, 1, 0)x(1, 0, 0, 12)12 - AIC:172.10475304268448\n",
      "ARIMA(1, 1, 0)x(1, 0, 1, 12)12 - AIC:174.10482336071072\n",
      "ARIMA(1, 1, 1)x(0, 0, 0, 12)12 - AIC:170.42464011783565\n",
      "ARIMA(1, 1, 1)x(0, 0, 1, 12)12 - AIC:172.61549513638352\n",
      "ARIMA(1, 1, 1)x(0, 1, 0, 12)12 - AIC:6.0\n",
      "ARIMA(1, 1, 1)x(0, 1, 1, 12)12 - AIC:8.0\n",
      "ARIMA(1, 1, 1)x(1, 0, 0, 12)12 - AIC:172.67954441753\n",
      "ARIMA(1, 1, 1)x(1, 0, 1, 12)12 - AIC:173.5705357136524\n",
      "ARIMA(1, 1, 1)x(1, 1, 0, 12)12 - AIC:8.0\n",
      "ARIMA(1, 1, 1)x(1, 1, 1, 12)12 - AIC:10.0\n"
     ]
    }
   ],
   "source": [
    "# Using Grid Search find the optimal set of parameters that yields the best performance\n",
    "for param in pdq:\n",
    "    for param_seasonal in seasonal_pdq:\n",
    "        try:\n",
    "            mod = sm.tsa.statespace.SARIMAX(y, order = param, seasonal_order = param_seasonal, enforce_stationary = False,enforce_invertibility=False) \n",
    "            result = mod.fit()   \n",
    "            print('ARIMA{}x{}12 - AIC:{}'.format(param, param_seasonal, result.aic))\n",
    "        except:\n",
    "            continue"
   ]
  },
  {
   "cell_type": "code",
   "execution_count": 23,
   "metadata": {},
   "outputs": [
    {
     "name": "stdout",
     "output_type": "stream",
     "text": [
      "==============================================================================\n",
      "                 coef    std err          z      P>|z|      [0.025      0.975]\n",
      "------------------------------------------------------------------------------\n",
      "ar.L1               0         -0        nan        nan           0           0\n",
      "ma.L1               0         -0        nan        nan           0           0\n",
      "ar.S.L12            0         -0        nan        nan           0           0\n",
      "sigma2         1.0000         -0       -inf      0.000       1.000       1.000\n",
      "==============================================================================\n"
     ]
    }
   ],
   "source": [
    "#Fitting the ARIMA model using above optimal combination of p, d, q (optimal means combination at which we got lowest AIC score)\n",
    "\n",
    "model = sm.tsa.statespace.SARIMAX(y, order = (1, 1, 1),\n",
    "                                  seasonal_order = (1, 1, 0, 12),\n",
    "                                  enforce_stationarity = False,\n",
    "                                  enforce_invertibility=False\n",
    "                                 )\n",
    "result = model.fit()\n",
    "print(result.summary().tables[1])\n"
   ]
  },
  {
   "cell_type": "code",
   "execution_count": 24,
   "metadata": {},
   "outputs": [
    {
     "data": {
      "text/html": [
       "<table class=\"simpletable\">\n",
       "<caption>SARIMAX Results</caption>\n",
       "<tr>\n",
       "  <th>Dep. Variable:</th>           <td>Cases (person)</td>          <th>  No. Observations:  </th>  <td>13</td>  \n",
       "</tr>\n",
       "<tr>\n",
       "  <th>Model:</th>           <td>SARIMAX(1, 1, 1)x(1, 1, [], 12)</td> <th>  Log Likelihood     </th> <td>0.000</td>\n",
       "</tr>\n",
       "<tr>\n",
       "  <th>Date:</th>                   <td>Mon, 08 Mar 2021</td>         <th>  AIC                </th> <td>8.000</td>\n",
       "</tr>\n",
       "<tr>\n",
       "  <th>Time:</th>                       <td>14:12:21</td>             <th>  BIC                </th> <td>  nan</td>\n",
       "</tr>\n",
       "<tr>\n",
       "  <th>Sample:</th>                    <td>03-01-2020</td>            <th>  HQIC               </th> <td>  nan</td>\n",
       "</tr>\n",
       "<tr>\n",
       "  <th></th>                          <td>- 03-01-2021</td>           <th>                     </th>   <td> </td>  \n",
       "</tr>\n",
       "<tr>\n",
       "  <th>Covariance Type:</th>               <td>opg</td>               <th>                     </th>   <td> </td>  \n",
       "</tr>\n",
       "</table>\n",
       "<table class=\"simpletable\">\n",
       "<tr>\n",
       "      <td></td>        <th>coef</th>     <th>std err</th>      <th>z</th>      <th>P>|z|</th>  <th>[0.025</th>    <th>0.975]</th>  \n",
       "</tr>\n",
       "<tr>\n",
       "  <th>ar.L1</th>    <td>         0</td> <td>       -0</td> <td>      nan</td> <td>   nan</td> <td>        0</td> <td>        0</td>\n",
       "</tr>\n",
       "<tr>\n",
       "  <th>ma.L1</th>    <td>         0</td> <td>       -0</td> <td>      nan</td> <td>   nan</td> <td>        0</td> <td>        0</td>\n",
       "</tr>\n",
       "<tr>\n",
       "  <th>ar.S.L12</th> <td>         0</td> <td>       -0</td> <td>      nan</td> <td>   nan</td> <td>        0</td> <td>        0</td>\n",
       "</tr>\n",
       "<tr>\n",
       "  <th>sigma2</th>   <td>    1.0000</td> <td>       -0</td> <td>     -inf</td> <td> 0.000</td> <td>    1.000</td> <td>    1.000</td>\n",
       "</tr>\n",
       "</table>\n",
       "<table class=\"simpletable\">\n",
       "<tr>\n",
       "  <th>Ljung-Box (L1) (Q):</th>     <td>nan</td> <th>  Jarque-Bera (JB):  </th> <td>nan</td>\n",
       "</tr>\n",
       "<tr>\n",
       "  <th>Prob(Q):</th>                <td>nan</td> <th>  Prob(JB):          </th> <td>nan</td>\n",
       "</tr>\n",
       "<tr>\n",
       "  <th>Heteroskedasticity (H):</th> <td>nan</td> <th>  Skew:              </th> <td>nan</td>\n",
       "</tr>\n",
       "<tr>\n",
       "  <th>Prob(H) (two-sided):</th>    <td>nan</td> <th>  Kurtosis:          </th> <td>nan</td>\n",
       "</tr>\n",
       "</table><br/><br/>Warnings:<br/>[1] Covariance matrix calculated using the outer product of gradients (complex-step).<br/>[2] Covariance matrix is singular or near-singular, with condition number    inf. Standard errors may be unstable."
      ],
      "text/plain": [
       "<class 'statsmodels.iolib.summary.Summary'>\n",
       "\"\"\"\n",
       "                                      SARIMAX Results                                      \n",
       "===========================================================================================\n",
       "Dep. Variable:                      Cases (person)   No. Observations:                   13\n",
       "Model:             SARIMAX(1, 1, 1)x(1, 1, [], 12)   Log Likelihood                   0.000\n",
       "Date:                             Mon, 08 Mar 2021   AIC                              8.000\n",
       "Time:                                     14:12:21   BIC                                nan\n",
       "Sample:                                 03-01-2020   HQIC                               nan\n",
       "                                      - 03-01-2021                                         \n",
       "Covariance Type:                               opg                                         \n",
       "==============================================================================\n",
       "                 coef    std err          z      P>|z|      [0.025      0.975]\n",
       "------------------------------------------------------------------------------\n",
       "ar.L1               0         -0        nan        nan           0           0\n",
       "ma.L1               0         -0        nan        nan           0           0\n",
       "ar.S.L12            0         -0        nan        nan           0           0\n",
       "sigma2         1.0000         -0       -inf      0.000       1.000       1.000\n",
       "===================================================================================\n",
       "Ljung-Box (L1) (Q):                    nan   Jarque-Bera (JB):                  nan\n",
       "Prob(Q):                               nan   Prob(JB):                          nan\n",
       "Heteroskedasticity (H):                nan   Skew:                              nan\n",
       "Prob(H) (two-sided):                   nan   Kurtosis:                          nan\n",
       "===================================================================================\n",
       "\n",
       "Warnings:\n",
       "[1] Covariance matrix calculated using the outer product of gradients (complex-step).\n",
       "[2] Covariance matrix is singular or near-singular, with condition number    inf. Standard errors may be unstable.\n",
       "\"\"\""
      ]
     },
     "execution_count": 24,
     "metadata": {},
     "output_type": "execute_result"
    }
   ],
   "source": [
    "result.summary()"
   ]
  },
  {
   "cell_type": "markdown",
   "metadata": {},
   "source": [
    "### Train the ARIMA Model"
   ]
  },
  {
   "cell_type": "code",
   "execution_count": 25,
   "metadata": {},
   "outputs": [
    {
     "name": "stdout",
     "output_type": "stream",
     "text": [
      "                             ARIMA Model Results                              \n",
      "==============================================================================\n",
      "Dep. Variable:       D.Cases (person)   No. Observations:                  354\n",
      "Model:                 ARIMA(5, 1, 0)   Log Likelihood               -2119.152\n",
      "Method:                       css-mle   S.D. of innovations             96.256\n",
      "Date:                Mon, 08 Mar 2021   AIC                           4252.305\n",
      "Time:                        14:12:25   BIC                           4279.390\n",
      "Sample:                             1   HQIC                          4263.081\n",
      "                                                                              \n",
      "==========================================================================================\n",
      "                             coef    std err          z      P>|z|      [0.025      0.975]\n",
      "------------------------------------------------------------------------------------------\n",
      "const                      0.3218      4.836      0.067      0.947      -9.156       9.800\n",
      "ar.L1.D.Cases (person)    -0.2538      0.053     -4.787      0.000      -0.358      -0.150\n",
      "ar.L2.D.Cases (person)     0.0783      0.054      1.438      0.150      -0.028       0.185\n",
      "ar.L3.D.Cases (person)     0.1675      0.054      3.115      0.002       0.062       0.273\n",
      "ar.L4.D.Cases (person)    -0.0885      0.054     -1.630      0.103      -0.195       0.018\n",
      "ar.L5.D.Cases (person)     0.0392      0.053      0.742      0.458      -0.064       0.143\n",
      "                                    Roots                                    \n",
      "=============================================================================\n",
      "                  Real          Imaginary           Modulus         Frequency\n",
      "-----------------------------------------------------------------------------\n",
      "AR.1           -1.0393           -0.9009j            1.3755           -0.3863\n",
      "AR.2           -1.0393           +0.9009j            1.3755            0.3863\n",
      "AR.3            2.0072           -0.0000j            2.0072           -0.0000\n",
      "AR.4            1.1659           -2.3165j            2.5933           -0.1758\n",
      "AR.5            1.1659           +2.3165j            2.5933            0.1758\n",
      "-----------------------------------------------------------------------------\n"
     ]
    }
   ],
   "source": [
    "series = dta_df['Cases (person)']\n",
    "model = ARIMA(series, order=(5, 1, 0))\n",
    "model_fit = model.fit(disp=0)\n",
    "print(model_fit.summary())"
   ]
  },
  {
   "cell_type": "code",
   "execution_count": 26,
   "metadata": {},
   "outputs": [
    {
     "data": {
      "image/png": "[encoded data removed]",
      "text/plain": [
       "<Figure size 432x288 with 1 Axes>"
      ]
     },
     "metadata": {
      "needs_background": "light"
     },
     "output_type": "display_data"
    },
    {
     "data": {
      "text/plain": [
       "<Figure size 800x560 with 0 Axes>"
      ]
     },
     "metadata": {},
     "output_type": "display_data"
    }
   ],
   "source": [
    "from pandas.plotting import autocorrelation_plot\n",
    "autocorrelation_plot(series)\n",
    "plt.figure(figsize=(10, 7), dpi=80)\n",
    "plt.show()"
   ]
  },
  {
   "cell_type": "markdown",
   "metadata": {},
   "source": [
    "## Predictions"
   ]
  },
  {
   "cell_type": "code",
   "execution_count": 27,
   "metadata": {},
   "outputs": [
    {
     "data": {
      "text/plain": [
       "2021-01-01     34.032258\n",
       "2021-02-01     34.032258\n",
       "2021-03-01     53.132258\n",
       "2021-04-01    156.082258\n",
       "2021-05-01    546.611290\n",
       "2021-06-01    889.348925\n",
       "2021-07-01    240.740323\n",
       "2021-08-01     92.385484\n",
       "2021-09-01     60.615591\n",
       "2021-10-01     57.675806\n",
       "2021-11-01     79.148925\n",
       "2021-12-01     58.514516\n",
       "2022-01-01     58.514516\n",
       "2022-02-01     58.514516\n",
       "2022-03-01     77.614516\n",
       "2022-04-01    180.564516\n",
       "2022-05-01    571.093548\n",
       "2022-06-01    913.831183\n",
       "2022-07-01    265.222581\n",
       "2022-08-01    116.867742\n",
       "2022-09-01     85.097849\n",
       "2022-10-01     82.158065\n",
       "2022-11-01    103.631183\n",
       "2022-12-01     82.996774\n",
       "2023-01-01     82.996774\n",
       "Freq: MS, Name: predicted_mean, dtype: float64"
      ]
     },
     "execution_count": 27,
     "metadata": {},
     "output_type": "execute_result"
    }
   ],
   "source": [
    "pred = result.predict('2021','2023',dynamic=True)\n",
    "pred"
   ]
  },
  {
   "cell_type": "code",
   "execution_count": 28,
   "metadata": {},
   "outputs": [
    {
     "data": {
      "image/png": "[encoded data removed]",
      "text/plain": [
       "<Figure size 1080x432 with 1 Axes>"
      ]
     },
     "metadata": {
      "needs_background": "light"
     },
     "output_type": "display_data"
    }
   ],
   "source": [
    "pred.plot(figsize = (15, 6))\n",
    "plt.show()"
   ]
  },
  {
   "cell_type": "markdown",
   "metadata": {},
   "source": [
    "###### Validating Forecasts"
   ]
  },
  {
   "cell_type": "markdown",
   "metadata": {},
   "source": [
    "<p>\n",
    "To help us understand the accuracy of our forecasts, we compare predicted sales to real sales of the time series, and we set forecasts to start at <i>2017–01–01</i> to <i>the end of the data.</i>\n",
    "</p>"
   ]
  },
  {
   "cell_type": "code",
   "execution_count": 35,
   "metadata": {},
   "outputs": [
    {
     "data": {
      "text/html": [
       "<div>\n",
       "<style scoped>\n",
       "    .dataframe tbody tr th:only-of-type {\n",
       "        vertical-align: middle;\n",
       "    }\n",
       "\n",
       "    .dataframe tbody tr th {\n",
       "        vertical-align: top;\n",
       "    }\n",
       "\n",
       "    .dataframe thead th {\n",
       "        text-align: right;\n",
       "    }\n",
       "</style>\n",
       "<table border=\"1\" class=\"dataframe\">\n",
       "  <thead>\n",
       "    <tr style=\"text-align: right;\">\n",
       "      <th></th>\n",
       "      <th>lower Cases (person)</th>\n",
       "      <th>upper Cases (person)</th>\n",
       "    </tr>\n",
       "  </thead>\n",
       "  <tbody>\n",
       "    <tr>\n",
       "      <th>2021-01-01</th>\n",
       "      <td>-2737.776084</td>\n",
       "      <td>2805.840600</td>\n",
       "    </tr>\n",
       "    <tr>\n",
       "      <th>2021-02-01</th>\n",
       "      <td>-2725.388987</td>\n",
       "      <td>2818.227696</td>\n",
       "    </tr>\n",
       "    <tr>\n",
       "      <th>2021-03-01</th>\n",
       "      <td>-2405.989097</td>\n",
       "      <td>2654.617669</td>\n",
       "    </tr>\n",
       "    <tr>\n",
       "      <th>2021-04-01</th>\n",
       "      <td>219.990036</td>\n",
       "      <td>223.909964</td>\n",
       "    </tr>\n",
       "    <tr>\n",
       "      <th>2021-05-01</th>\n",
       "      <td>609.707225</td>\n",
       "      <td>615.250840</td>\n",
       "    </tr>\n",
       "    <tr>\n",
       "      <th>2021-06-01</th>\n",
       "      <td>951.821909</td>\n",
       "      <td>958.611424</td>\n",
       "    </tr>\n",
       "    <tr>\n",
       "      <th>2021-07-01</th>\n",
       "      <td>302.688137</td>\n",
       "      <td>310.527992</td>\n",
       "    </tr>\n",
       "    <tr>\n",
       "      <th>2021-08-01</th>\n",
       "      <td>153.870613</td>\n",
       "      <td>162.635839</td>\n",
       "    </tr>\n",
       "    <tr>\n",
       "      <th>2021-09-01</th>\n",
       "      <td>121.682422</td>\n",
       "      <td>131.284245</td>\n",
       "    </tr>\n",
       "    <tr>\n",
       "      <th>2021-10-01</th>\n",
       "      <td>118.357971</td>\n",
       "      <td>128.729126</td>\n",
       "    </tr>\n",
       "    <tr>\n",
       "      <th>2021-11-01</th>\n",
       "      <td>139.473051</td>\n",
       "      <td>150.560282</td>\n",
       "    </tr>\n",
       "    <tr>\n",
       "      <th>2021-12-01</th>\n",
       "      <td>118.502366</td>\n",
       "      <td>130.262150</td>\n",
       "    </tr>\n",
       "    <tr>\n",
       "      <th>2022-01-01</th>\n",
       "      <td>130.571405</td>\n",
       "      <td>142.967305</td>\n",
       "    </tr>\n",
       "    <tr>\n",
       "      <th>2022-02-01</th>\n",
       "      <td>189.063821</td>\n",
       "      <td>202.064751</td>\n",
       "    </tr>\n",
       "    <tr>\n",
       "      <th>2022-03-01</th>\n",
       "      <td>202.560486</td>\n",
       "      <td>216.139514</td>\n",
       "    </tr>\n",
       "    <tr>\n",
       "      <th>2022-04-01</th>\n",
       "      <td>304.460144</td>\n",
       "      <td>320.139856</td>\n",
       "    </tr>\n",
       "    <tr>\n",
       "      <th>2022-05-01</th>\n",
       "      <td>694.063807</td>\n",
       "      <td>711.594258</td>\n",
       "    </tr>\n",
       "    <tr>\n",
       "      <th>2022-06-01</th>\n",
       "      <td>1035.964843</td>\n",
       "      <td>1055.168490</td>\n",
       "    </tr>\n",
       "    <tr>\n",
       "      <th>2022-07-01</th>\n",
       "      <td>386.586910</td>\n",
       "      <td>407.329219</td>\n",
       "    </tr>\n",
       "    <tr>\n",
       "      <th>2022-08-01</th>\n",
       "      <td>237.515995</td>\n",
       "      <td>259.690456</td>\n",
       "    </tr>\n",
       "    <tr>\n",
       "      <th>2022-09-01</th>\n",
       "      <td>205.073549</td>\n",
       "      <td>228.593117</td>\n",
       "    </tr>\n",
       "    <tr>\n",
       "      <th>2022-10-01</th>\n",
       "      <td>201.497648</td>\n",
       "      <td>226.289449</td>\n",
       "    </tr>\n",
       "    <tr>\n",
       "      <th>2022-11-01</th>\n",
       "      <td>222.365736</td>\n",
       "      <td>248.367597</td>\n",
       "    </tr>\n",
       "    <tr>\n",
       "      <th>2022-12-01</th>\n",
       "      <td>201.153229</td>\n",
       "      <td>228.311287</td>\n",
       "    </tr>\n",
       "    <tr>\n",
       "      <th>2023-01-01</th>\n",
       "      <td>212.985854</td>\n",
       "      <td>241.252856</td>\n",
       "    </tr>\n",
       "  </tbody>\n",
       "</table>\n",
       "</div>"
      ],
      "text/plain": [
       "            lower Cases (person)  upper Cases (person)\n",
       "2021-01-01          -2737.776084           2805.840600\n",
       "2021-02-01          -2725.388987           2818.227696\n",
       "2021-03-01          -2405.989097           2654.617669\n",
       "2021-04-01            219.990036            223.909964\n",
       "2021-05-01            609.707225            615.250840\n",
       "2021-06-01            951.821909            958.611424\n",
       "2021-07-01            302.688137            310.527992\n",
       "2021-08-01            153.870613            162.635839\n",
       "2021-09-01            121.682422            131.284245\n",
       "2021-10-01            118.357971            128.729126\n",
       "2021-11-01            139.473051            150.560282\n",
       "2021-12-01            118.502366            130.262150\n",
       "2022-01-01            130.571405            142.967305\n",
       "2022-02-01            189.063821            202.064751\n",
       "2022-03-01            202.560486            216.139514\n",
       "2022-04-01            304.460144            320.139856\n",
       "2022-05-01            694.063807            711.594258\n",
       "2022-06-01           1035.964843           1055.168490\n",
       "2022-07-01            386.586910            407.329219\n",
       "2022-08-01            237.515995            259.690456\n",
       "2022-09-01            205.073549            228.593117\n",
       "2022-10-01            201.497648            226.289449\n",
       "2022-11-01            222.365736            248.367597\n",
       "2022-12-01            201.153229            228.311287\n",
       "2023-01-01            212.985854            241.252856"
      ]
     },
     "execution_count": 35,
     "metadata": {},
     "output_type": "execute_result"
    }
   ],
   "source": [
    "prediction = result.get_prediction(start = pd.to_datetime('2021-01-01'),end=pd.to_datetime('2023-01-01'), dynamic = False)\n",
    "prediction_ci = prediction.conf_int()\n",
    "prediction_ci"
   ]
  },
  {
   "cell_type": "code",
   "execution_count": 38,
   "metadata": {},
   "outputs": [
    {
     "data": {
      "image/png": "[encoded data removed]",
      "text/plain": [
       "<Figure size 1008x504 with 1 Axes>"
      ]
     },
     "metadata": {
      "needs_background": "light"
     },
     "output_type": "display_data"
    }
   ],
   "source": [
    "#Visualize the forecasting\n",
    "ax = y['2020':].plot(label = 'observed')\n",
    "prediction.predicted_mean.plot(ax = ax, label = 'One-step ahead Forecast', alpha = 0.7, figsize = (14, 7))\n",
    "ax.fill_between(prediction_ci.index, prediction_ci.iloc[:, 0], prediction_ci.iloc[:, 1], color = 'k', alpha = 0.2)\n",
    "ax.set_xlabel(\"Date\")\n",
    "ax.set_ylabel('Furniture Cases')\n",
    "plt.legend()\n",
    "plt.show()"
   ]
  },
  {
   "cell_type": "markdown",
   "metadata": {},
   "source": [
    "\n",
    "\n",
    "## Calculate Forecast Errors\n",
    "\n",
    "#### Mean absolute error:\n",
    "The mean absolute error (MAE) value is computed as the average absolute error value. If this value is 0 (zero), the fit (forecast) is perfect. As compared to the mean squared error value, this measure of fit will “de-emphasize” outliers, that is, unique or rare large error values will affect the MAE less than the MSE value.\n",
    "\n",
    "#### Mean Forecast Error (Bias).\n",
    "The mean forecast error (MFE) is the average error in the observations. A large positive MFE means that the forecast is undershooting the actual observations, and a large negative MFE means the forecast is overshooting the actual observations. A value near zero is ideal.\n",
    "\n",
    "The MAE is a better indicator of fit than the MFE."
   ]
  },
  {
   "cell_type": "code",
   "execution_count": 39,
   "metadata": {},
   "outputs": [
    {
     "name": "stdout",
     "output_type": "stream",
     "text": [
      "The Mean Squared Error of our forecasts is 1212.84\n",
      "The Root Mean Squared Error of our forecasts is 34.83\n"
     ]
    }
   ],
   "source": [
    "# Evaluation metrics are Squared Mean Error(SME) and Root Mean Squared Error(RMSE)\n",
    "y_hat = prediction.predicted_mean\n",
    "y_truth = y['2020-03-01':]\n",
    "\n",
    "mse = ((y_hat - y_truth) ** 2).mean()\n",
    "rmse = np.sqrt(mse)\n",
    "print('The Mean Squared Error of our forecasts is {}'.format(round(mse, 2)))\n",
    "print('The Root Mean Squared Error of our forecasts is {}'.format(round(rmse, 2)))\n"
   ]
  },
  {
   "cell_type": "markdown",
   "metadata": {},
   "source": [
    "## Summary"
   ]
  },
  {
   "cell_type": "markdown",
   "metadata": {},
   "source": [
    "<ul>\n",
    "<li>Our model clearly captured furniture cases seasonality.</li>\n",
    "<li>As we forecast further out into the future, it is natural for us to become less confident in our values.</li>\n",
    "<li>This is reflected by the confidence intervals generated by our model, which grow larger as we move further out into the future.</li>\n",
    "\n",
    "</ul>"
   ]
  }
 ],
 "metadata": {
  "kernelspec": {
   "display_name": "Python 3",
   "language": "python",
   "name": "python3"
  },
  "language_info": {
   "codemirror_mode": {
    "name": "ipython",
    "version": 3
   },
   "file_extension": ".py",
   "mimetype": "text/x-python",
   "name": "python",
   "nbconvert_exporter": "python",
   "pygments_lexer": "ipython3",
   "version": "3.7.9"
  }
 },
 "nbformat": 4,
 "nbformat_minor": 4
}
